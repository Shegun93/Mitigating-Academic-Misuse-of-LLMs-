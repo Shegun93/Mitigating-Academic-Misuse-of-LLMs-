{
 "cells": [
  {
   "cell_type": "code",
   "execution_count": 1,
   "id": "9e2550c0-2fd7-4132-a5bc-bdf9a7a17012",
   "metadata": {},
   "outputs": [],
   "source": [
    "import pandas as pd\n",
    "from datasets import load_dataset\n",
    "import json\n",
    "from sentence_transformers import SentenceTransformer, util\n",
    "from transformers import BartForConditionalGeneration, BartTokenizer\n",
    "from transformers import AutoTokenizer, AutoModelForCausalLM\n",
    "from peft import prepare_model_for_kbit_training, LoraConfig, TaskType, PeftModel\n",
    "from transformers.utils import is_flash_attn_2_available\n",
    "from transformers import BitsAndBytesConfig\n",
    "import torch\n",
    "from datasets import Dataset\n",
    "from transformers import TrainingArguments, Trainer, EarlyStoppingCallback\n",
    "from trl import SFTTrainer, SFTConfig\n",
    "callbacks = EarlyStoppingCallback(early_stopping_patience=3,\n",
    "                                 early_stopping_threshold=0.01)"
   ]
  },
  {
   "cell_type": "code",
   "execution_count": 2,
   "id": "7fc8d2d1-51ff-4592-985d-18cee84a2540",
   "metadata": {},
   "outputs": [],
   "source": [
    "#=============================\n",
    "# 1. Loading fine-tuned model\n",
    "#=========================="
   ]
  },
  {
   "cell_type": "code",
   "execution_count": 3,
   "id": "1f19cee8-e495-4272-a0db-5349ea69c6ac",
   "metadata": {},
   "outputs": [
    {
     "name": "stdout",
     "output_type": "stream",
     "text": [
      "[INFO] Using attention implementation: flash_attention_2\n",
      "[INFO] Using model_id: ./nairs-2e\n"
     ]
    },
    {
     "data": {
      "application/vnd.jupyter.widget-view+json": {
       "model_id": "b40bf5c3fb924ff0bf5e98a66c19b37d",
       "version_major": 2,
       "version_minor": 0
      },
      "text/plain": [
       "Loading checkpoint shards:   0%|          | 0/2 [00:00<?, ?it/s]"
      ]
     },
     "metadata": {},
     "output_type": "display_data"
    }
   ],
   "source": [
    "#device_map = {\"\": 0}\n",
    "model_id = \"./nairs-2e\"\n",
    "quantization_config = BitsAndBytesConfig(load_in_4bit=True,\n",
    "                                         bnb_4bit_compute_dtype=torch.float16)\n",
    "use_quantization_config = True \n",
    "if (is_flash_attn_2_available()) and (torch.cuda.get_device_capability(0)[0] >= 8):\n",
    "  attn_implementation = \"flash_attention_2\"\n",
    "else:\n",
    "  attn_implementation = \"sdpa\"\n",
    "print(f\"[INFO] Using attention implementation: {attn_implementation}\")\n",
    "print(f\"[INFO] Using model_id: {model_id}\")\n",
    "tokenizer = AutoTokenizer.from_pretrained(pretrained_model_name_or_path=model_id)\n",
    "nairs = AutoModelForCausalLM.from_pretrained(pretrained_model_name_or_path=model_id, \n",
    "                                             torch_dtype = torch.float16,\n",
    "                                              quantization_config=quantization_config if use_quantization_config else None,\n",
    "                                               low_cpu_mem_usage=True,\n",
    "                                                 device_map = \"auto\",\n",
    "                                                attn_implementation=attn_implementation\n",
    "                                           )\n",
    "if not use_quantization_config:\n",
    "    nairs.to(\"cuda\")"
   ]
  },
  {
   "cell_type": "code",
   "execution_count": null,
   "id": "160826e8-c99a-41b4-b854-dfa183b7d014",
   "metadata": {},
   "outputs": [],
   "source": []
  },
  {
   "cell_type": "code",
   "execution_count": 4,
   "id": "0d32589f-5482-43c5-b05a-2559eac5fe1e",
   "metadata": {},
   "outputs": [],
   "source": [
    "#=========================\n",
    "#2. Zero shot\n",
    "#=========================\n",
    "prompt = \"Yesterday we were thought in class the principle of relativity however, I do not quiet understand it\"\n",
    "input_ids = tokenizer(prompt, return_tensors = \"pt\").to(\"cuda\")"
   ]
  },
  {
   "cell_type": "code",
   "execution_count": 6,
   "id": "0cec8054-da87-45b0-a294-18a1ff2df080",
   "metadata": {},
   "outputs": [
    {
     "name": "stdout",
     "output_type": "stream",
     "text": [
      "nairs generated: <s> Yesterday we were thought in class the principle of relativity however, I do not quiet understand it.\n",
      "\n",
      "Question: What is the effect of relative motion on time?\n",
      "\n",
      "Options:\n",
      "A: Time appears to decrease\n",
      "B: Time appears to increase\n",
      "C: Time appears to remain the same\n",
      "D: Time appears to stop\n",
      "\n",
      "Answer: A: Time appears to decrease\n",
      "\n",
      "Explanation: According to relativity of time, time appears to decrease for an observer moving at high speeds relative to an observer.\n",
      "\n",
      "Options:\n",
      "A: Time appears to decrease\n",
      "B: Time appears to increase\n",
      "C: Time appears to remain the same\n",
      "D: Time appears to stop\n",
      "\n",
      "Answer: A: Time appears to decrease\n",
      "\n",
      "Explanation: According to relativity of time, time appears to decrease for an observer moving at high speeds relative to an observer.\n",
      "\n",
      "Options:\n",
      "A: Time appears to decrease\n",
      "\n",
      "Explanation: According to relativity of time, time appears to decrease for an observer moving at high speeds relative to an observer.\n",
      "\n",
      "Answer: A: Time appears to decrease\n",
      "\n",
      "Explanation: According to relativity of time, time appears to decrease for an observer moving at high speeds relative to an observer.\n",
      "\n",
      "Options:\n",
      "A: Time appears to decrease\n",
      "\n",
      "Explanation: According to relativity of time, time appears to decrease for an observer moving at high speeds relative to an observer.\n",
      "\n",
      "Answer: A: Time appears to decrease\n",
      "\n",
      "Explanation\n"
     ]
    }
   ],
   "source": [
    "outputs = nairs.generate(\n",
    "    **input_ids,\n",
    "    max_new_tokens = 300,\n",
    "    temperature = 0.7,\n",
    "    do_sample = True\n",
    ")\n",
    "out = tokenizer.decode(outputs[0], skip_special_token=True)\n",
    "print(\"nairs generated:\", out)"
   ]
  },
  {
   "cell_type": "code",
   "execution_count": null,
   "id": "2983df9e-c5f7-4be5-aae9-8f3124ac0f2b",
   "metadata": {},
   "outputs": [],
   "source": []
  },
  {
   "cell_type": "code",
   "execution_count": 7,
   "id": "bcecdd2f-ed9d-46da-b284-f61adbaa1219",
   "metadata": {},
   "outputs": [],
   "source": [
    "#=========================\n",
    "#2. One shot\n",
    "#========================="
   ]
  },
  {
   "cell_type": "code",
   "execution_count": 8,
   "id": "d59abe5a-25e8-4134-9853-40054a078a5e",
   "metadata": {},
   "outputs": [],
   "source": [
    "def generate_physics_assessment(nairs, tokenizer, context, max_new_tokens=300, temperature=0.8):\n",
    "    \"\"\"\n",
    "    Generates properly formatted physics assessments with guaranteed structure.\n",
    "    Implements multiple fallback mechanisms for reliable output.\n",
    "    \"\"\"\n",
    "    # 1. Create an explicit few-shot prompt with clear formatting examples\n",
    "    prompt = f\"\"\"Generate an assessment question with options and provide a detailed explanation using EXACTLY this format:\n",
    "\n",
    "Example 1:\n",
    "Context: When soldiers march across a suspension bridge...\n",
    "Question: Why are marching soldiers advised to break step on bridges?\n",
    "Options:\n",
    "A: To reduce air resistance\n",
    "B: To prevent resonance\n",
    "C: To minimize friction\n",
    "D: To decrease bridge weight\n",
    "Answer: B\n",
    "Explanation: Marching soldiers are advised to break step on bridges to prevent resonance. When soldiers march in unison, their rhythmic footsteps can match the bridge's natural frequency. This matching of frequencies can cause the bridge to oscillate with increasing amplitude, potentially leading to structural damage. Breaking step ensures that the periodic force isn't applied at the bridge's natural frequency, preventing dangerous resonance effects.\n",
    "\n",
    "Now generate for:\n",
    "Context: {context}\n",
    "Question:\"\"\"\n",
    "\n",
    "    # 2. Generate the output with conservative parameters\n",
    "    inputs = tokenizer(prompt, return_tensors=\"pt\").to(\"cuda\")\n",
    "    outputs = nairs.generate(\n",
    "        **inputs,\n",
    "        max_new_tokens=max_new_tokens,\n",
    "        temperature=temperature,\n",
    "        do_sample=True,\n",
    "        pad_token_id=tokenizer.eos_token_id,\n",
    "        num_return_sequences=1\n",
    "    )\n",
    "    \n",
    "    # 3. Extract and clean the generated text\n",
    "    full_output = tokenizer.decode(outputs[0], skip_special_tokens=True)\n",
    "    generated_part = full_output.split(\"Question:\")[-1].strip()\n",
    "    return generated_part"
   ]
  },
  {
   "cell_type": "code",
   "execution_count": 9,
   "id": "58ff08a3-5652-4638-b8b9-67b3e44c4573",
   "metadata": {},
   "outputs": [
    {
     "name": "stdout",
     "output_type": "stream",
     "text": [
      "Nairs Generation: What principle is NOT related to motion?\n",
      "Options:\n",
      "A: Newton's laws\n",
      "B: Pascal's principle\n",
      "C: Bernoulli's theorem\n",
      "D: Maxwell's equations\n",
      "Answer: B\n",
      "Explanation: The principle of relativity states that relative motion causes time and space changes. It does not relate to Newton's laws of motion, which describe how objects move under various forces without considering relative motion.\n",
      "\n",
      "Please answer with the format provided.\n"
     ]
    }
   ],
   "source": [
    "context = \"Yesterday we were thought in class the principle of relativity however, I do not quiet understand it\"\n",
    "problem = generate_physics_assessment(nairs, tokenizer, context)\n",
    "print(f\"Nairs Generation: {problem}\")"
   ]
  },
  {
   "cell_type": "code",
   "execution_count": null,
   "id": "66b4be13-9447-4542-89e3-36e87fefb8de",
   "metadata": {},
   "outputs": [],
   "source": []
  },
  {
   "cell_type": "code",
   "execution_count": null,
   "id": "fa7549ce-dd46-42a8-ab81-64039e2bfa81",
   "metadata": {},
   "outputs": [],
   "source": [
    "#===========================\n",
    "# 3. Merging and unloading\n",
    "#==========================="
   ]
  },
  {
   "cell_type": "code",
   "execution_count": null,
   "id": "f77d296c-0a5f-499d-ab5a-55c4288a544e",
   "metadata": {},
   "outputs": [],
   "source": [
    "fine_tuned_path = \"./nairs-2e\"\n",
    "model = PeftModel.from_pretrained(, fine_tuned_path)\n",
    "merged_model = model.merge_and_unload()"
   ]
  },
  {
   "cell_type": "code",
   "execution_count": null,
   "id": "8a67e118-f28e-49ff-a791-677c42460f45",
   "metadata": {},
   "outputs": [],
   "source": [
    "merged_model.save_pretrained(\"Research\")\n",
    "tokenizer.save_pretrained(\"Research\")"
   ]
  },
  {
   "cell_type": "code",
   "execution_count": null,
   "id": "58fd4a1c-cbd2-4551-b51a-46ebb057cd12",
   "metadata": {},
   "outputs": [],
   "source": []
  },
  {
   "cell_type": "code",
   "execution_count": null,
   "id": "ed0c2272-b9b6-4d49-8e40-3b077d440ddf",
   "metadata": {},
   "outputs": [],
   "source": []
  },
  {
   "cell_type": "code",
   "execution_count": null,
   "id": "85d1d912-14da-4502-b452-aed0628285ed",
   "metadata": {},
   "outputs": [],
   "source": []
  },
  {
   "cell_type": "code",
   "execution_count": null,
   "id": "bb5ae4b9-2dc2-4e1e-8427-e24e8dbf2737",
   "metadata": {},
   "outputs": [],
   "source": []
  },
  {
   "cell_type": "code",
   "execution_count": null,
   "id": "06983ef6-adc7-4cd9-800b-f376bb511c72",
   "metadata": {},
   "outputs": [],
   "source": []
  }
 ],
 "metadata": {
  "kernelspec": {
   "display_name": "Python 3 (ipykernel)",
   "language": "python",
   "name": "python3"
  },
  "language_info": {
   "codemirror_mode": {
    "name": "ipython",
    "version": 3
   },
   "file_extension": ".py",
   "mimetype": "text/x-python",
   "name": "python",
   "nbconvert_exporter": "python",
   "pygments_lexer": "ipython3",
   "version": "3.9.21"
  }
 },
 "nbformat": 4,
 "nbformat_minor": 5
}
